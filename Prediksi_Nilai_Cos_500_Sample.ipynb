{
  "nbformat": 4,
  "nbformat_minor": 0,
  "metadata": {
    "colab": {
      "name": "Prediksi Nilai Cos 500 Sample.ipynb",
      "provenance": [],
      "collapsed_sections": [],
      "toc_visible": true,
      "include_colab_link": true
    },
    "kernelspec": {
      "name": "python3",
      "display_name": "Python 3"
    }
  },
  "cells": [
    {
      "cell_type": "markdown",
      "metadata": {
        "id": "view-in-github",
        "colab_type": "text"
      },
      "source": [
        "<a href=\"https://colab.research.google.com/github/hananlu/PrediksiNilaiCos/blob/main/Prediksi_Nilai_Cos_500_Sample.ipynb\" target=\"_parent\"><img src=\"https://colab.research.google.com/assets/colab-badge.svg\" alt=\"Open In Colab\"/></a>"
      ]
    },
    {
      "cell_type": "markdown",
      "metadata": {
        "id": "0OsjuMPqyB0H"
      },
      "source": [
        "# Membuat Prediksi Nilai Cos\n",
        "\n",
        "---\n",
        "Dilakukan prediksi nilai cosinus dari grafik cosinus, menggunakan teknik Machine Learning dengan TensorFlow dan Keras.\n",
        "\n",
        "Terinspirasi dari : https://github.com/tensorflow/tensorflow/blob/master/tensorflow/lite/micro/examples/hello_world/train/train_hello_world_model.ipynb\n"
      ]
    },
    {
      "cell_type": "markdown",
      "metadata": {
        "id": "C4hnWW1Ny28i"
      },
      "source": [
        "##Melakukan import dependecy, seperti library yang digunakan"
      ]
    },
    {
      "cell_type": "code",
      "metadata": {
        "id": "kH2MTiScw6xd"
      },
      "source": [
        "# Pendefinisian Lokasi Penyimpanan Model yang akan dibuat\n",
        "import os\n",
        "MODELS_DIR = 'models/'\n",
        "if not os.path.exists(MODELS_DIR):\n",
        "    os.mkdir(MODELS_DIR)\n",
        "MODEL_TF = MODELS_DIR + 'model'"
      ],
      "execution_count": 89,
      "outputs": []
    },
    {
      "cell_type": "code",
      "metadata": {
        "id": "53PBJBv1jEtJ"
      },
      "source": [
        "# Memanggil Library yang akan digunakan : Tensor Flow, Keras, Numpy, Panda, Matplotlib, Math\n",
        "\n",
        "# Memanggil TensorFlow, yang digunakan sebagai library machine learning. (TensorFlow bersifat open source)\n",
        "import tensorflow as tf\n",
        "\n",
        "# Memanggil Keras, yakni sebuah API dari TensorFlow, yang digunakan dalam deep learning.\n",
        "from tensorflow import keras\n",
        "from tensorflow.keras.callbacks import EarlyStopping\n",
        "\n",
        "# Memanggil Numpy, sebuah library untuk pengolahan matematis. \n",
        "import numpy as np\n",
        "\n",
        "# Memanggil Pandas, sebuah library untuk pengolahan data. \n",
        "import pandas as pd\n",
        "\n",
        "# Memanggil Matplotlib, untuk membuat grafik. \n",
        "import matplotlib.pyplot as plt\n",
        "\n",
        "# Memanggil Math, yakni library Python untuk fngsi matematis\n",
        "import math\n",
        "\n",
        "# Melakukan pengaturan 'seed', untuk generasi angka acak di numpy maupun tensor flow\n",
        "seed = 1\n",
        "np.random.seed(seed)\n",
        "tf.random.set_seed(seed)"
      ],
      "execution_count": 90,
      "outputs": []
    },
    {
      "cell_type": "markdown",
      "metadata": {
        "id": "p-PuBEb6CMeo"
      },
      "source": [
        "## Membuat Dataset"
      ]
    },
    {
      "cell_type": "markdown",
      "metadata": {
        "id": "7gB0-dlNmLT-"
      },
      "source": [
        "### Membuat Data Cosinus\n",
        "\n",
        "Membuat angka acak, dengan nilai `x`, lalu kita akan menghitung niliai cosinus dari 'x' tersebut, dan memvisualisaikannya dengan sebuah grafik"
      ]
    },
    {
      "cell_type": "code",
      "metadata": {
        "id": "uKjg7QeMDsDx",
        "colab": {
          "base_uri": "https://localhost:8080/",
          "height": 265
        },
        "outputId": "56a0f547-edfa-437d-94e1-54c86eb769dc"
      },
      "source": [
        "# Jumlah sampel angka. Kita akan membuat grafik fungsi cos, dengan beberapa angka yang acak. Disini kita melakukan generasi beberapa nilai angka.\n",
        "\n",
        "SAMPLES = 500\n",
        "# Jika akan mengganti jumlah titik, dilakukan dengan mengganti angka SAMPLES = 100 atau 500\n",
        "\n",
        "# Membuat data dengan distribusi uniform, berdasarkan angka acak, dengan nilai 0 hingga 2π, yang merepresentasikan dari gelombang cos.\n",
        "x_values = np.random.uniform(low=0, high=2*math.pi, size=SAMPLES).astype(np.float32)\n",
        "\n",
        "# Nilai diacak supaya tidak berurutan.\n",
        "np.random.shuffle(x_values)\n",
        "\n",
        "# Menghitung nilai cos(x), yang akan di plot menjadi sumbu y grafik\n",
        "y_values = np.cos(x_values).astype(np.float32)\n",
        "\n",
        "# Melakukan plot data ke grafik, kita lihat apakah yang akan terjadi, seharusnya muncul grafik fungsi cos, dengan titik-titik warna hijau (green g.)\n",
        "plt.plot(x_values, y_values, 'g.')\n",
        "plt.show()"
      ],
      "execution_count": 91,
      "outputs": [
        {
          "output_type": "display_data",
          "data": {
            "image/png": "[encoded data removed]",
            "text/plain": [
              "<Figure size 432x288 with 1 Axes>"
            ]
          },
          "metadata": {
            "tags": [],
            "needs_background": "light"
          }
        }
      ]
    },
    {
      "cell_type": "markdown",
      "metadata": {
        "id": "iWOlC7W_FYvA"
      },
      "source": [
        "### Membuat Noise\n"
      ]
    },
    {
      "cell_type": "code",
      "metadata": {
        "id": "i0FJe3Y-Gkac",
        "colab": {
          "base_uri": "https://localhost:8080/",
          "height": 268
        },
        "outputId": "31194c21-f9ec-4075-f0dd-b753e1f5fed2"
      },
      "source": [
        "# Add a small random number to each y value\n",
        "y_values += 0.15 * np.random.randn(*y_values.shape)\n",
        "\n",
        "# Plot our data\n",
        "plt.plot(x_values, y_values, 'g.')\n",
        "plt.show()\n",
        "\n",
        "#Kita lihat jika data menjadi teracak 15% dari kondisi normal, dapat dilihat seperti grafik di bawah: "
      ],
      "execution_count": 92,
      "outputs": [
        {
          "output_type": "display_data",
          "data": {
            "image/png": "[encoded data removed]",
            "text/plain": [
              "<Figure size 432x288 with 1 Axes>"
            ]
          },
          "metadata": {
            "tags": [],
            "needs_background": "light"
          }
        }
      ]
    },
    {
      "cell_type": "markdown",
      "metadata": {
        "id": "Up8Xk_pMH4Rt"
      },
      "source": [
        "### Melakukan Pemecahan Data\n",
        "\n",
        "Untuk mengevaluasi model yang akan kita buat, kita perlu membandingkan prediksi nilai terhadap data aslinya. Lalu kita cek, apakah cocok. Evaluasi ini berlangsung ketika training model 'validasi data', maupun setelah training 'data testing'. Perlu digarisbwahi bahwa kita menggunakan data yang berbeda, untuk training, validasi maupun testing.\n",
        "\n",
        "Pembagian data kita lakukan sebagai berikut :\n",
        "  1. Data Training : 60%\n",
        "  2. Data Validasi : 20%\n",
        "  3. Data Testing  : 20% \n",
        "\n",
        "Lalu kita akan melakukan visualisasi data, dengan grafik, untuk data training kita beri warna titik biru, data test merah dan data validasi kuning."
      ]
    },
    {
      "cell_type": "code",
      "metadata": {
        "id": "nNYko5L1keqZ",
        "colab": {
          "base_uri": "https://localhost:8080/",
          "height": 268
        },
        "outputId": "d2eb6d85-bc6a-4203-96ae-1c5893b896b9"
      },
      "source": [
        "# Kita pecah 60% untuk training, 20 % untuk data test, dan sisanya (20%) untuk data validasi.\n",
        "TRAIN_SPLIT =  int(0.6 * SAMPLES)\n",
        "TEST_SPLIT = int(0.2 * SAMPLES + TRAIN_SPLIT)\n",
        "\n",
        "# Kita gunakan np.split untuk membagi data menjadi 3 bagian (data train, data test, data validasi)\n",
        "x_train, x_test, x_validate = np.split(x_values, [TRAIN_SPLIT, TEST_SPLIT])\n",
        "y_train, y_test, y_validate = np.split(y_values, [TRAIN_SPLIT, TEST_SPLIT])\n",
        "\n",
        "# Cek apakah jumlah bagian (data train+data validasi+data test) sudah sama dengan total data (samples)\n",
        "assert (x_train.size + x_validate.size + x_test.size) ==  SAMPLES\n",
        "\n",
        "# Kita lakukan plot di grafik :\n",
        "plt.plot(x_train, y_train, 'b.', label=\"Train\")\n",
        "plt.plot(x_test, y_test, 'r.', label=\"Test\")\n",
        "plt.plot(x_validate, y_validate, 'y.', label=\"Validate\")\n",
        "plt.legend()\n",
        "plt.show()\n"
      ],
      "execution_count": 93,
      "outputs": [
        {
          "output_type": "display_data",
          "data": {
            "image/png": "[encoded data removed]",
            "text/plain": [
              "<Figure size 432x288 with 1 Axes>"
            ]
          },
          "metadata": {
            "tags": [],
            "needs_background": "light"
          }
        }
      ]
    },
    {
      "cell_type": "markdown",
      "metadata": {
        "id": "T7sL-hWtoAZC"
      },
      "source": [
        "## Melakukan Training Model"
      ]
    },
    {
      "cell_type": "markdown",
      "metadata": {
        "id": "aQd0JSdOoAbw"
      },
      "source": [
        "### 1. Membuat Desain Model\n",
        "Kita akan membuat model dengan beberapa lapis neuron. "
      ]
    },
    {
      "cell_type": "code",
      "metadata": {
        "id": "oW0xus6AF-4o"
      },
      "source": [
        "#dibuat model berupa Sequential dari Keras, TensorFlow.\n",
        "model = tf.keras.Sequential()\n",
        "\n",
        "# Layer Pertama mengambil input tunggal dari data cos di atas, lalu diolah dalam 16 neuron, menggunakan 'relu' sebagai fungsi aktivasi.\n",
        "model.add(keras.layers.Dense(16, activation='relu', input_shape=(1,)))\n",
        "\n",
        "# Membuat layer ke dua dan ke tiga dengan 16 neuron untuk layer 2 dan 4 neuron untuk layer ketiga, masih menggunakan relu sebagai fungsi aktivasi.\n",
        "model.add(keras.layers.Dense(16, activation='relu'))\n",
        "model.add(keras.layers.Dense(4, activation='relu'))\n",
        "\n",
        "# Output akhir berupa single neuron, yang melakukan output 1 variabel\n",
        "model.add(keras.layers.Dense(1))\n",
        "\n",
        "# Dilakukan pembentukan model dengan metode optimisasi:'adam'. Dilakukan evaluasi berupa Mean Squared Error (mse), yang merupakan loss dari metode regresi.\n",
        "model.compile(optimizer='adam', loss=\"mse\", metrics=[\"mae\"])"
      ],
      "execution_count": 94,
      "outputs": []
    },
    {
      "cell_type": "markdown",
      "metadata": {
        "id": "Dv2SC409Grap"
      },
      "source": [
        "### 2. Melakukan Training pada Model ###"
      ]
    },
    {
      "cell_type": "code",
      "metadata": {
        "id": "Qtg260SzV_Nk"
      },
      "source": [
        "#Membuat class early stop yang berguna untuk menghentikan training model saat mencapai loss kurang dari 0.028\n",
        "#fungsi ini digunakan agar tidak mengalami overfitting pada model\n",
        "\n",
        "class MyCallback(tf.keras.callbacks.Callback):\n",
        "  def on_epoch_end(self, epoch, logs={}):\n",
        "    if(logs.get('loss') < 0.028):\n",
        "      print('\\n Loss is low so stop training')\n",
        "      self.model.stop_training=True"
      ],
      "execution_count": 95,
      "outputs": []
    },
    {
      "cell_type": "code",
      "metadata": {
        "id": "yHA7XoS5XMZI"
      },
      "source": [
        "callbacks = MyCallback()"
      ],
      "execution_count": 96,
      "outputs": []
    },
    {
      "cell_type": "code",
      "metadata": {
        "id": "DPAUrdkmGq1M",
        "colab": {
          "base_uri": "https://localhost:8080/"
        },
        "outputId": "488bb4a9-fdd8-4f9b-c723-a3b915360a5b"
      },
      "source": [
        "# Dilakukan training dengan epoch (siklus perulangan) sebanyak 500 kali. Melakukan training 64 data per epoch.\n",
        "\n",
        "history = model.fit(x_train, y_train, epochs=500, batch_size=64,\n",
        "                    validation_data=(x_validate, y_validate),\n",
        "                    callbacks=[callbacks])\n",
        "\n",
        "# Jangan lupa model disimpan\n",
        "model.save(MODEL_TF)"
      ],
      "execution_count": 97,
      "outputs": [
        {
          "output_type": "stream",
          "text": [
            "Epoch 1/500\n",
            "5/5 [==============================] - 1s 36ms/step - loss: 0.8807 - mae: 0.7570 - val_loss: 0.7110 - val_mae: 0.6814\n",
            "Epoch 2/500\n",
            "5/5 [==============================] - 0s 8ms/step - loss: 0.6604 - mae: 0.6911 - val_loss: 0.6092 - val_mae: 0.6679\n",
            "Epoch 3/500\n",
            "5/5 [==============================] - 0s 7ms/step - loss: 0.5515 - mae: 0.6542 - val_loss: 0.5749 - val_mae: 0.6741\n",
            "Epoch 4/500\n",
            "5/5 [==============================] - 0s 7ms/step - loss: 0.5150 - mae: 0.6348 - val_loss: 0.5800 - val_mae: 0.6882\n",
            "Epoch 5/500\n",
            "5/5 [==============================] - 0s 6ms/step - loss: 0.5085 - mae: 0.6301 - val_loss: 0.5945 - val_mae: 0.6971\n",
            "Epoch 6/500\n",
            "5/5 [==============================] - 0s 6ms/step - loss: 0.5162 - mae: 0.6340 - val_loss: 0.6014 - val_mae: 0.7004\n",
            "Epoch 7/500\n",
            "5/5 [==============================] - 0s 7ms/step - loss: 0.5191 - mae: 0.6350 - val_loss: 0.5990 - val_mae: 0.6989\n",
            "Epoch 8/500\n",
            "5/5 [==============================] - 0s 7ms/step - loss: 0.5149 - mae: 0.6333 - val_loss: 0.5898 - val_mae: 0.6942\n",
            "Epoch 9/500\n",
            "5/5 [==============================] - 0s 8ms/step - loss: 0.5111 - mae: 0.6319 - val_loss: 0.5798 - val_mae: 0.6881\n",
            "Epoch 10/500\n",
            "5/5 [==============================] - 0s 6ms/step - loss: 0.5071 - mae: 0.6303 - val_loss: 0.5756 - val_mae: 0.6846\n",
            "Epoch 11/500\n",
            "5/5 [==============================] - 0s 6ms/step - loss: 0.5075 - mae: 0.6309 - val_loss: 0.5736 - val_mae: 0.6825\n",
            "Epoch 12/500\n",
            "5/5 [==============================] - 0s 7ms/step - loss: 0.5081 - mae: 0.6310 - val_loss: 0.5729 - val_mae: 0.6816\n",
            "Epoch 13/500\n",
            "5/5 [==============================] - 0s 7ms/step - loss: 0.5073 - mae: 0.6305 - val_loss: 0.5741 - val_mae: 0.6831\n",
            "Epoch 14/500\n",
            "5/5 [==============================] - 0s 7ms/step - loss: 0.5068 - mae: 0.6303 - val_loss: 0.5758 - val_mae: 0.6848\n",
            "Epoch 15/500\n",
            "5/5 [==============================] - 0s 8ms/step - loss: 0.5065 - mae: 0.6304 - val_loss: 0.5770 - val_mae: 0.6858\n",
            "Epoch 16/500\n",
            "5/5 [==============================] - 0s 7ms/step - loss: 0.5066 - mae: 0.6304 - val_loss: 0.5773 - val_mae: 0.6860\n",
            "Epoch 17/500\n",
            "5/5 [==============================] - 0s 7ms/step - loss: 0.5067 - mae: 0.6306 - val_loss: 0.5770 - val_mae: 0.6858\n",
            "Epoch 18/500\n",
            "5/5 [==============================] - 0s 7ms/step - loss: 0.5067 - mae: 0.6306 - val_loss: 0.5778 - val_mae: 0.6864\n",
            "Epoch 19/500\n",
            "5/5 [==============================] - 0s 7ms/step - loss: 0.5066 - mae: 0.6305 - val_loss: 0.5765 - val_mae: 0.6854\n",
            "Epoch 20/500\n",
            "5/5 [==============================] - 0s 6ms/step - loss: 0.5067 - mae: 0.6306 - val_loss: 0.5757 - val_mae: 0.6846\n",
            "Epoch 21/500\n",
            "5/5 [==============================] - 0s 7ms/step - loss: 0.5064 - mae: 0.6305 - val_loss: 0.5763 - val_mae: 0.6852\n",
            "Epoch 22/500\n",
            "5/5 [==============================] - 0s 7ms/step - loss: 0.5065 - mae: 0.6305 - val_loss: 0.5756 - val_mae: 0.6846\n",
            "Epoch 23/500\n",
            "5/5 [==============================] - 0s 6ms/step - loss: 0.5064 - mae: 0.6305 - val_loss: 0.5761 - val_mae: 0.6850\n",
            "Epoch 24/500\n",
            "5/5 [==============================] - 0s 6ms/step - loss: 0.5064 - mae: 0.6305 - val_loss: 0.5758 - val_mae: 0.6847\n",
            "Epoch 25/500\n",
            "5/5 [==============================] - 0s 6ms/step - loss: 0.5065 - mae: 0.6305 - val_loss: 0.5761 - val_mae: 0.6850\n",
            "Epoch 26/500\n",
            "5/5 [==============================] - 0s 7ms/step - loss: 0.5062 - mae: 0.6304 - val_loss: 0.5756 - val_mae: 0.6845\n",
            "Epoch 27/500\n",
            "5/5 [==============================] - 0s 7ms/step - loss: 0.5062 - mae: 0.6304 - val_loss: 0.5743 - val_mae: 0.6833\n",
            "Epoch 28/500\n",
            "5/5 [==============================] - 0s 9ms/step - loss: 0.5065 - mae: 0.6306 - val_loss: 0.5741 - val_mae: 0.6830\n",
            "Epoch 29/500\n",
            "5/5 [==============================] - 0s 8ms/step - loss: 0.5065 - mae: 0.6306 - val_loss: 0.5752 - val_mae: 0.6842\n",
            "Epoch 30/500\n",
            "5/5 [==============================] - 0s 7ms/step - loss: 0.5063 - mae: 0.6305 - val_loss: 0.5754 - val_mae: 0.6844\n",
            "Epoch 31/500\n",
            "5/5 [==============================] - 0s 10ms/step - loss: 0.5061 - mae: 0.6304 - val_loss: 0.5755 - val_mae: 0.6845\n",
            "Epoch 32/500\n",
            "5/5 [==============================] - 0s 8ms/step - loss: 0.5063 - mae: 0.6305 - val_loss: 0.5763 - val_mae: 0.6851\n",
            "Epoch 33/500\n",
            "5/5 [==============================] - 0s 7ms/step - loss: 0.5065 - mae: 0.6306 - val_loss: 0.5766 - val_mae: 0.6853\n",
            "Epoch 34/500\n",
            "5/5 [==============================] - 0s 8ms/step - loss: 0.5063 - mae: 0.6305 - val_loss: 0.5753 - val_mae: 0.6842\n",
            "Epoch 35/500\n",
            "5/5 [==============================] - 0s 7ms/step - loss: 0.5065 - mae: 0.6307 - val_loss: 0.5753 - val_mae: 0.6842\n",
            "Epoch 36/500\n",
            "5/5 [==============================] - 0s 7ms/step - loss: 0.5063 - mae: 0.6306 - val_loss: 0.5751 - val_mae: 0.6840\n",
            "Epoch 37/500\n",
            "5/5 [==============================] - 0s 7ms/step - loss: 0.5063 - mae: 0.6306 - val_loss: 0.5753 - val_mae: 0.6842\n",
            "Epoch 38/500\n",
            "5/5 [==============================] - 0s 7ms/step - loss: 0.5059 - mae: 0.6303 - val_loss: 0.5769 - val_mae: 0.6855\n",
            "Epoch 39/500\n",
            "5/5 [==============================] - 0s 7ms/step - loss: 0.5063 - mae: 0.6305 - val_loss: 0.5779 - val_mae: 0.6862\n",
            "Epoch 40/500\n",
            "5/5 [==============================] - 0s 7ms/step - loss: 0.5062 - mae: 0.6305 - val_loss: 0.5775 - val_mae: 0.6859\n",
            "Epoch 41/500\n",
            "5/5 [==============================] - 0s 8ms/step - loss: 0.5063 - mae: 0.6306 - val_loss: 0.5771 - val_mae: 0.6857\n",
            "Epoch 42/500\n",
            "5/5 [==============================] - 0s 7ms/step - loss: 0.5058 - mae: 0.6302 - val_loss: 0.5746 - val_mae: 0.6836\n",
            "Epoch 43/500\n",
            "5/5 [==============================] - 0s 7ms/step - loss: 0.5058 - mae: 0.6304 - val_loss: 0.5731 - val_mae: 0.6822\n",
            "Epoch 44/500\n",
            "5/5 [==============================] - 0s 7ms/step - loss: 0.5060 - mae: 0.6304 - val_loss: 0.5730 - val_mae: 0.6821\n",
            "Epoch 45/500\n",
            "5/5 [==============================] - 0s 8ms/step - loss: 0.5058 - mae: 0.6302 - val_loss: 0.5738 - val_mae: 0.6830\n",
            "Epoch 46/500\n",
            "5/5 [==============================] - 0s 8ms/step - loss: 0.5075 - mae: 0.6314 - val_loss: 0.5765 - val_mae: 0.6853\n",
            "Epoch 47/500\n",
            "5/5 [==============================] - 0s 7ms/step - loss: 0.5060 - mae: 0.6304 - val_loss: 0.5757 - val_mae: 0.6847\n",
            "Epoch 48/500\n",
            "5/5 [==============================] - 0s 8ms/step - loss: 0.5065 - mae: 0.6308 - val_loss: 0.5737 - val_mae: 0.6830\n",
            "Epoch 49/500\n",
            "5/5 [==============================] - 0s 7ms/step - loss: 0.5057 - mae: 0.6304 - val_loss: 0.5739 - val_mae: 0.6832\n",
            "Epoch 50/500\n",
            "5/5 [==============================] - 0s 8ms/step - loss: 0.5054 - mae: 0.6302 - val_loss: 0.5736 - val_mae: 0.6830\n",
            "Epoch 51/500\n",
            "5/5 [==============================] - 0s 8ms/step - loss: 0.5052 - mae: 0.6300 - val_loss: 0.5740 - val_mae: 0.6834\n",
            "Epoch 52/500\n",
            "5/5 [==============================] - 0s 7ms/step - loss: 0.5058 - mae: 0.6304 - val_loss: 0.5733 - val_mae: 0.6828\n",
            "Epoch 53/500\n",
            "5/5 [==============================] - 0s 8ms/step - loss: 0.5051 - mae: 0.6300 - val_loss: 0.5744 - val_mae: 0.6838\n",
            "Epoch 54/500\n",
            "5/5 [==============================] - 0s 7ms/step - loss: 0.5052 - mae: 0.6299 - val_loss: 0.5741 - val_mae: 0.6836\n",
            "Epoch 55/500\n",
            "5/5 [==============================] - 0s 6ms/step - loss: 0.5049 - mae: 0.6301 - val_loss: 0.5727 - val_mae: 0.6825\n",
            "Epoch 56/500\n",
            "5/5 [==============================] - 0s 7ms/step - loss: 0.5048 - mae: 0.6297 - val_loss: 0.5723 - val_mae: 0.6821\n",
            "Epoch 57/500\n",
            "5/5 [==============================] - 0s 6ms/step - loss: 0.5040 - mae: 0.6292 - val_loss: 0.5742 - val_mae: 0.6838\n",
            "Epoch 58/500\n",
            "5/5 [==============================] - 0s 7ms/step - loss: 0.5041 - mae: 0.6293 - val_loss: 0.5740 - val_mae: 0.6837\n",
            "Epoch 59/500\n",
            "5/5 [==============================] - 0s 9ms/step - loss: 0.5037 - mae: 0.6293 - val_loss: 0.5723 - val_mae: 0.6823\n",
            "Epoch 60/500\n",
            "5/5 [==============================] - 0s 7ms/step - loss: 0.5040 - mae: 0.6292 - val_loss: 0.5732 - val_mae: 0.6830\n",
            "Epoch 61/500\n",
            "5/5 [==============================] - 0s 7ms/step - loss: 0.5029 - mae: 0.6287 - val_loss: 0.5712 - val_mae: 0.6815\n",
            "Epoch 62/500\n",
            "5/5 [==============================] - 0s 8ms/step - loss: 0.5025 - mae: 0.6284 - val_loss: 0.5695 - val_mae: 0.6802\n",
            "Epoch 63/500\n",
            "5/5 [==============================] - 0s 8ms/step - loss: 0.5033 - mae: 0.6286 - val_loss: 0.5683 - val_mae: 0.6791\n",
            "Epoch 64/500\n",
            "5/5 [==============================] - 0s 8ms/step - loss: 0.5018 - mae: 0.6279 - val_loss: 0.5696 - val_mae: 0.6805\n",
            "Epoch 65/500\n",
            "5/5 [==============================] - 0s 8ms/step - loss: 0.5011 - mae: 0.6273 - val_loss: 0.5702 - val_mae: 0.6811\n",
            "Epoch 66/500\n",
            "5/5 [==============================] - 0s 7ms/step - loss: 0.5019 - mae: 0.6280 - val_loss: 0.5677 - val_mae: 0.6792\n",
            "Epoch 67/500\n",
            "5/5 [==============================] - 0s 8ms/step - loss: 0.4998 - mae: 0.6266 - val_loss: 0.5683 - val_mae: 0.6798\n",
            "Epoch 68/500\n",
            "5/5 [==============================] - 0s 8ms/step - loss: 0.4996 - mae: 0.6265 - val_loss: 0.5675 - val_mae: 0.6794\n",
            "Epoch 69/500\n",
            "5/5 [==============================] - 0s 7ms/step - loss: 0.4987 - mae: 0.6260 - val_loss: 0.5675 - val_mae: 0.6795\n",
            "Epoch 70/500\n",
            "5/5 [==============================] - 0s 8ms/step - loss: 0.4984 - mae: 0.6257 - val_loss: 0.5668 - val_mae: 0.6791\n",
            "Epoch 71/500\n",
            "5/5 [==============================] - 0s 8ms/step - loss: 0.4975 - mae: 0.6251 - val_loss: 0.5664 - val_mae: 0.6790\n",
            "Epoch 72/500\n",
            "5/5 [==============================] - 0s 7ms/step - loss: 0.4968 - mae: 0.6247 - val_loss: 0.5646 - val_mae: 0.6777\n",
            "Epoch 73/500\n",
            "5/5 [==============================] - 0s 7ms/step - loss: 0.4965 - mae: 0.6247 - val_loss: 0.5625 - val_mae: 0.6762\n",
            "Epoch 74/500\n",
            "5/5 [==============================] - 0s 7ms/step - loss: 0.4951 - mae: 0.6240 - val_loss: 0.5632 - val_mae: 0.6770\n",
            "Epoch 75/500\n",
            "5/5 [==============================] - 0s 8ms/step - loss: 0.4945 - mae: 0.6233 - val_loss: 0.5624 - val_mae: 0.6765\n",
            "Epoch 76/500\n",
            "5/5 [==============================] - 0s 9ms/step - loss: 0.4938 - mae: 0.6228 - val_loss: 0.5602 - val_mae: 0.6750\n",
            "Epoch 77/500\n",
            "5/5 [==============================] - 0s 8ms/step - loss: 0.4925 - mae: 0.6221 - val_loss: 0.5597 - val_mae: 0.6748\n",
            "Epoch 78/500\n",
            "5/5 [==============================] - 0s 7ms/step - loss: 0.4915 - mae: 0.6215 - val_loss: 0.5588 - val_mae: 0.6742\n",
            "Epoch 79/500\n",
            "5/5 [==============================] - 0s 7ms/step - loss: 0.4906 - mae: 0.6209 - val_loss: 0.5575 - val_mae: 0.6734\n",
            "Epoch 80/500\n",
            "5/5 [==============================] - 0s 7ms/step - loss: 0.4895 - mae: 0.6203 - val_loss: 0.5561 - val_mae: 0.6725\n",
            "Epoch 81/500\n",
            "5/5 [==============================] - 0s 7ms/step - loss: 0.4881 - mae: 0.6195 - val_loss: 0.5529 - val_mae: 0.6701\n",
            "Epoch 82/500\n",
            "5/5 [==============================] - 0s 7ms/step - loss: 0.4869 - mae: 0.6186 - val_loss: 0.5518 - val_mae: 0.6695\n",
            "Epoch 83/500\n",
            "5/5 [==============================] - 0s 6ms/step - loss: 0.4854 - mae: 0.6177 - val_loss: 0.5508 - val_mae: 0.6691\n",
            "Epoch 84/500\n",
            "5/5 [==============================] - 0s 6ms/step - loss: 0.4837 - mae: 0.6166 - val_loss: 0.5492 - val_mae: 0.6681\n",
            "Epoch 85/500\n",
            "5/5 [==============================] - 0s 8ms/step - loss: 0.4827 - mae: 0.6159 - val_loss: 0.5453 - val_mae: 0.6653\n",
            "Epoch 86/500\n",
            "5/5 [==============================] - 0s 9ms/step - loss: 0.4806 - mae: 0.6148 - val_loss: 0.5447 - val_mae: 0.6654\n",
            "Epoch 87/500\n",
            "5/5 [==============================] - 0s 7ms/step - loss: 0.4768 - mae: 0.6120 - val_loss: 0.5419 - val_mae: 0.6639\n",
            "Epoch 88/500\n",
            "5/5 [==============================] - 0s 7ms/step - loss: 0.4758 - mae: 0.6108 - val_loss: 0.5406 - val_mae: 0.6630\n",
            "Epoch 89/500\n",
            "5/5 [==============================] - 0s 7ms/step - loss: 0.4714 - mae: 0.6079 - val_loss: 0.5316 - val_mae: 0.6570\n",
            "Epoch 90/500\n",
            "5/5 [==============================] - 0s 8ms/step - loss: 0.4669 - mae: 0.6056 - val_loss: 0.5269 - val_mae: 0.6540\n",
            "Epoch 91/500\n",
            "5/5 [==============================] - 0s 7ms/step - loss: 0.4636 - mae: 0.6032 - val_loss: 0.5220 - val_mae: 0.6511\n",
            "Epoch 92/500\n",
            "5/5 [==============================] - 0s 11ms/step - loss: 0.4594 - mae: 0.6003 - val_loss: 0.5185 - val_mae: 0.6493\n",
            "Epoch 93/500\n",
            "5/5 [==============================] - 0s 6ms/step - loss: 0.4550 - mae: 0.5972 - val_loss: 0.5150 - val_mae: 0.6473\n",
            "Epoch 94/500\n",
            "5/5 [==============================] - 0s 7ms/step - loss: 0.4526 - mae: 0.5951 - val_loss: 0.5113 - val_mae: 0.6453\n",
            "Epoch 95/500\n",
            "5/5 [==============================] - 0s 7ms/step - loss: 0.4449 - mae: 0.5907 - val_loss: 0.5011 - val_mae: 0.6380\n",
            "Epoch 96/500\n",
            "5/5 [==============================] - 0s 7ms/step - loss: 0.4411 - mae: 0.5877 - val_loss: 0.4940 - val_mae: 0.6330\n",
            "Epoch 97/500\n",
            "5/5 [==============================] - 0s 8ms/step - loss: 0.4366 - mae: 0.5846 - val_loss: 0.4888 - val_mae: 0.6303\n",
            "Epoch 98/500\n",
            "5/5 [==============================] - 0s 7ms/step - loss: 0.4294 - mae: 0.5796 - val_loss: 0.4839 - val_mae: 0.6277\n",
            "Epoch 99/500\n",
            "5/5 [==============================] - 0s 8ms/step - loss: 0.4256 - mae: 0.5769 - val_loss: 0.4821 - val_mae: 0.6266\n",
            "Epoch 100/500\n",
            "5/5 [==============================] - 0s 7ms/step - loss: 0.4184 - mae: 0.5717 - val_loss: 0.4714 - val_mae: 0.6195\n",
            "Epoch 101/500\n",
            "5/5 [==============================] - 0s 7ms/step - loss: 0.4115 - mae: 0.5667 - val_loss: 0.4616 - val_mae: 0.6124\n",
            "Epoch 102/500\n",
            "5/5 [==============================] - 0s 7ms/step - loss: 0.4052 - mae: 0.5623 - val_loss: 0.4541 - val_mae: 0.6075\n",
            "Epoch 103/500\n",
            "5/5 [==============================] - 0s 7ms/step - loss: 0.3994 - mae: 0.5581 - val_loss: 0.4478 - val_mae: 0.6037\n",
            "Epoch 104/500\n",
            "5/5 [==============================] - 0s 8ms/step - loss: 0.3916 - mae: 0.5523 - val_loss: 0.4369 - val_mae: 0.5950\n",
            "Epoch 105/500\n",
            "5/5 [==============================] - 0s 7ms/step - loss: 0.3840 - mae: 0.5467 - val_loss: 0.4295 - val_mae: 0.5902\n",
            "Epoch 106/500\n",
            "5/5 [==============================] - 0s 6ms/step - loss: 0.3764 - mae: 0.5410 - val_loss: 0.4239 - val_mae: 0.5866\n",
            "Epoch 107/500\n",
            "5/5 [==============================] - 0s 8ms/step - loss: 0.3687 - mae: 0.5352 - val_loss: 0.4136 - val_mae: 0.5794\n",
            "Epoch 108/500\n",
            "5/5 [==============================] - 0s 7ms/step - loss: 0.3610 - mae: 0.5291 - val_loss: 0.4047 - val_mae: 0.5730\n",
            "Epoch 109/500\n",
            "5/5 [==============================] - 0s 7ms/step - loss: 0.3518 - mae: 0.5220 - val_loss: 0.3927 - val_mae: 0.5635\n",
            "Epoch 110/500\n",
            "5/5 [==============================] - 0s 8ms/step - loss: 0.3432 - mae: 0.5157 - val_loss: 0.3835 - val_mae: 0.5565\n",
            "Epoch 111/500\n",
            "5/5 [==============================] - 0s 8ms/step - loss: 0.3342 - mae: 0.5086 - val_loss: 0.3736 - val_mae: 0.5490\n",
            "Epoch 112/500\n",
            "5/5 [==============================] - 0s 10ms/step - loss: 0.3258 - mae: 0.5019 - val_loss: 0.3620 - val_mae: 0.5402\n",
            "Epoch 113/500\n",
            "5/5 [==============================] - 0s 8ms/step - loss: 0.3153 - mae: 0.4934 - val_loss: 0.3528 - val_mae: 0.5331\n",
            "Epoch 114/500\n",
            "5/5 [==============================] - 0s 7ms/step - loss: 0.3058 - mae: 0.4855 - val_loss: 0.3425 - val_mae: 0.5251\n",
            "Epoch 115/500\n",
            "5/5 [==============================] - 0s 7ms/step - loss: 0.2962 - mae: 0.4771 - val_loss: 0.3305 - val_mae: 0.5154\n",
            "Epoch 116/500\n",
            "5/5 [==============================] - 0s 7ms/step - loss: 0.2854 - mae: 0.4681 - val_loss: 0.3197 - val_mae: 0.5062\n",
            "Epoch 117/500\n",
            "5/5 [==============================] - 0s 8ms/step - loss: 0.2749 - mae: 0.4592 - val_loss: 0.3060 - val_mae: 0.4946\n",
            "Epoch 118/500\n",
            "5/5 [==============================] - 0s 6ms/step - loss: 0.2645 - mae: 0.4498 - val_loss: 0.2938 - val_mae: 0.4841\n",
            "Epoch 119/500\n",
            "5/5 [==============================] - 0s 7ms/step - loss: 0.2533 - mae: 0.4393 - val_loss: 0.2834 - val_mae: 0.4746\n",
            "Epoch 120/500\n",
            "5/5 [==============================] - 0s 8ms/step - loss: 0.2426 - mae: 0.4296 - val_loss: 0.2711 - val_mae: 0.4636\n",
            "Epoch 121/500\n",
            "5/5 [==============================] - 0s 9ms/step - loss: 0.2319 - mae: 0.4193 - val_loss: 0.2594 - val_mae: 0.4524\n",
            "Epoch 122/500\n",
            "5/5 [==============================] - 0s 9ms/step - loss: 0.2206 - mae: 0.4082 - val_loss: 0.2445 - val_mae: 0.4384\n",
            "Epoch 123/500\n",
            "5/5 [==============================] - 0s 8ms/step - loss: 0.2097 - mae: 0.3980 - val_loss: 0.2330 - val_mae: 0.4275\n",
            "Epoch 124/500\n",
            "5/5 [==============================] - 0s 9ms/step - loss: 0.1983 - mae: 0.3857 - val_loss: 0.2225 - val_mae: 0.4167\n",
            "Epoch 125/500\n",
            "5/5 [==============================] - 0s 8ms/step - loss: 0.1872 - mae: 0.3741 - val_loss: 0.2089 - val_mae: 0.4025\n",
            "Epoch 126/500\n",
            "5/5 [==============================] - 0s 7ms/step - loss: 0.1764 - mae: 0.3623 - val_loss: 0.1969 - val_mae: 0.3888\n",
            "Epoch 127/500\n",
            "5/5 [==============================] - 0s 9ms/step - loss: 0.1659 - mae: 0.3506 - val_loss: 0.1854 - val_mae: 0.3757\n",
            "Epoch 128/500\n",
            "5/5 [==============================] - 0s 8ms/step - loss: 0.1560 - mae: 0.3378 - val_loss: 0.1764 - val_mae: 0.3653\n",
            "Epoch 129/500\n",
            "5/5 [==============================] - 0s 7ms/step - loss: 0.1460 - mae: 0.3260 - val_loss: 0.1613 - val_mae: 0.3469\n",
            "Epoch 130/500\n",
            "5/5 [==============================] - 0s 7ms/step - loss: 0.1351 - mae: 0.3125 - val_loss: 0.1537 - val_mae: 0.3376\n",
            "Epoch 131/500\n",
            "5/5 [==============================] - 0s 9ms/step - loss: 0.1273 - mae: 0.3024 - val_loss: 0.1440 - val_mae: 0.3239\n",
            "Epoch 132/500\n",
            "5/5 [==============================] - 0s 8ms/step - loss: 0.1159 - mae: 0.2876 - val_loss: 0.1307 - val_mae: 0.3061\n",
            "Epoch 133/500\n",
            "5/5 [==============================] - 0s 9ms/step - loss: 0.1097 - mae: 0.2769 - val_loss: 0.1241 - val_mae: 0.2971\n",
            "Epoch 134/500\n",
            "5/5 [==============================] - 0s 10ms/step - loss: 0.1006 - mae: 0.2654 - val_loss: 0.1157 - val_mae: 0.2850\n",
            "Epoch 135/500\n",
            "5/5 [==============================] - 0s 8ms/step - loss: 0.0916 - mae: 0.2523 - val_loss: 0.1047 - val_mae: 0.2695\n",
            "Epoch 136/500\n",
            "5/5 [==============================] - 0s 8ms/step - loss: 0.0858 - mae: 0.2425 - val_loss: 0.0996 - val_mae: 0.2605\n",
            "Epoch 137/500\n",
            "5/5 [==============================] - 0s 9ms/step - loss: 0.0780 - mae: 0.2303 - val_loss: 0.0921 - val_mae: 0.2486\n",
            "Epoch 138/500\n",
            "5/5 [==============================] - 0s 8ms/step - loss: 0.0729 - mae: 0.2219 - val_loss: 0.0849 - val_mae: 0.2368\n",
            "Epoch 139/500\n",
            "5/5 [==============================] - 0s 7ms/step - loss: 0.0677 - mae: 0.2122 - val_loss: 0.0822 - val_mae: 0.2283\n",
            "Epoch 140/500\n",
            "5/5 [==============================] - 0s 8ms/step - loss: 0.0610 - mae: 0.2010 - val_loss: 0.0733 - val_mae: 0.2161\n",
            "Epoch 141/500\n",
            "5/5 [==============================] - 0s 7ms/step - loss: 0.0574 - mae: 0.1949 - val_loss: 0.0694 - val_mae: 0.2080\n",
            "Epoch 142/500\n",
            "5/5 [==============================] - 0s 7ms/step - loss: 0.0540 - mae: 0.1879 - val_loss: 0.0684 - val_mae: 0.2049\n",
            "Epoch 143/500\n",
            "5/5 [==============================] - 0s 8ms/step - loss: 0.0505 - mae: 0.1800 - val_loss: 0.0606 - val_mae: 0.1944\n",
            "Epoch 144/500\n",
            "5/5 [==============================] - 0s 7ms/step - loss: 0.0466 - mae: 0.1738 - val_loss: 0.0612 - val_mae: 0.1935\n",
            "Epoch 145/500\n",
            "5/5 [==============================] - 0s 9ms/step - loss: 0.0447 - mae: 0.1685 - val_loss: 0.0550 - val_mae: 0.1840\n",
            "Epoch 146/500\n",
            "5/5 [==============================] - 0s 8ms/step - loss: 0.0435 - mae: 0.1674 - val_loss: 0.0515 - val_mae: 0.1783\n",
            "Epoch 147/500\n",
            "5/5 [==============================] - 0s 8ms/step - loss: 0.0399 - mae: 0.1603 - val_loss: 0.0562 - val_mae: 0.1840\n",
            "Epoch 148/500\n",
            "5/5 [==============================] - 0s 8ms/step - loss: 0.0376 - mae: 0.1559 - val_loss: 0.0472 - val_mae: 0.1713\n",
            "Epoch 149/500\n",
            "5/5 [==============================] - 0s 10ms/step - loss: 0.0360 - mae: 0.1527 - val_loss: 0.0460 - val_mae: 0.1687\n",
            "Epoch 150/500\n",
            "5/5 [==============================] - 0s 8ms/step - loss: 0.0351 - mae: 0.1503 - val_loss: 0.0473 - val_mae: 0.1702\n",
            "Epoch 151/500\n",
            "5/5 [==============================] - 0s 8ms/step - loss: 0.0326 - mae: 0.1454 - val_loss: 0.0424 - val_mae: 0.1631\n",
            "Epoch 152/500\n",
            "5/5 [==============================] - 0s 9ms/step - loss: 0.0322 - mae: 0.1448 - val_loss: 0.0424 - val_mae: 0.1620\n",
            "Epoch 153/500\n",
            "5/5 [==============================] - 0s 8ms/step - loss: 0.0306 - mae: 0.1407 - val_loss: 0.0409 - val_mae: 0.1594\n",
            "Epoch 154/500\n",
            "5/5 [==============================] - 0s 9ms/step - loss: 0.0298 - mae: 0.1397 - val_loss: 0.0394 - val_mae: 0.1570\n",
            "Epoch 155/500\n",
            "5/5 [==============================] - 0s 8ms/step - loss: 0.0295 - mae: 0.1381 - val_loss: 0.0397 - val_mae: 0.1567\n",
            "Epoch 156/500\n",
            "5/5 [==============================] - 0s 7ms/step - loss: 0.0287 - mae: 0.1365 - val_loss: 0.0374 - val_mae: 0.1526\n",
            "Epoch 157/500\n",
            "5/5 [==============================] - 0s 8ms/step - loss: 0.0278 - mae: 0.1345 - val_loss: 0.0386 - val_mae: 0.1540\n",
            "\n",
            " Loss is low so stop training\n",
            "INFO:tensorflow:Assets written to: models/model/assets\n"
          ],
          "name": "stdout"
        }
      ]
    },
    {
      "cell_type": "markdown",
      "metadata": {
        "id": "fFC1EMRdSfSS"
      },
      "source": [
        "## Evaluasi Model"
      ]
    },
    {
      "cell_type": "markdown",
      "metadata": {
        "id": "Mc_CQu2_IvOP"
      },
      "source": [
        "### 3. Plot Parameter Output (MSE)"
      ]
    },
    {
      "cell_type": "code",
      "metadata": {
        "id": "SYHGswAJJgrC",
        "colab": {
          "base_uri": "https://localhost:8080/",
          "height": 297
        },
        "outputId": "bbdca3c3-df87-45bd-f32a-bf15abc6d67b"
      },
      "source": [
        "# Dilakukan plotting hasil training tadi, menggunakan grafik loss (loss dan val_loss), serta menggunakan MAE (mae, val_mae)\n",
        "\n",
        "#1. Grafik Loss\n",
        "train_loss = history.history['loss']\n",
        "val_loss = history.history['val_loss']\n",
        "epochs = range(1, len(train_loss) + 1)\n",
        "plt.figure(figsize=(10, 4))\n",
        "plt.subplot(1, 2, 1)\n",
        "plt.plot(epochs, train_loss, 'r.', label='Loss Saat Training')\n",
        "plt.plot(epochs, val_loss, 'b.', label='Loss Saat Validasi')\n",
        "plt.title('Grafik Loss Saat Training dan Validasi')\n",
        "plt.xlabel('Epochs ke-')\n",
        "plt.ylabel('Nilai Loss')\n",
        "plt.legend()\n",
        "plt.subplot(1, 2, 2)\n",
        "\n",
        "# 2. Grafik mean absolute error\n",
        "train_mae = history.history['mae']\n",
        "val_mae = history.history['val_mae']\n",
        "plt.plot(epochs, train_mae, 'g.', label='MAE saat Training')\n",
        "plt.plot(epochs, val_mae, 'b.', label='MAE saat Validasi')\n",
        "plt.title('Grafik Mean Absolute Error')\n",
        "plt.xlabel('Epochs ke-')\n",
        "plt.ylabel('MAE')\n",
        "plt.legend()\n",
        "plt.tight_layout()"
      ],
      "execution_count": 98,
      "outputs": [
        {
          "output_type": "display_data",
          "data": {
            "image/png": "[encoded data removed]",
            "text/plain": [
              "<Figure size 720x288 with 2 Axes>"
            ]
          },
          "metadata": {
            "tags": [],
            "needs_background": "light"
          }
        }
      ]
    },
    {
      "cell_type": "markdown",
      "metadata": {
        "id": "vAsQzsiSSraO"
      },
      "source": [
        "### 3. Plot Hasil Prediksi"
      ]
    },
    {
      "cell_type": "code",
      "metadata": {
        "id": "lZfztKKyhLxX",
        "colab": {
          "base_uri": "https://localhost:8080/",
          "height": 298
        },
        "outputId": "17a8b409-0154-47bb-dc68-7b94b8be00d9"
      },
      "source": [
        "# Kalkulasi hasil\n",
        "test_loss, test_mae = model.evaluate(x_test, y_test)\n",
        "\n",
        "# Membuat prediksi dengan dat test\n",
        "y_test_pred = model.predict(x_test)\n",
        "\n",
        "# Membuat grafik perbandingan nilai aktual dengan prediksi\n",
        "plt.clf()\n",
        "plt.title('Perbandingan grafik hasil prediksi dengan nilai aktual')\n",
        "plt.plot(x_test, y_test, 'b.', label='Grafik Aktual')\n",
        "plt.plot(x_test, y_test_pred, 'r.', label='Prediksi Model (TensorFlow)')\n",
        "plt.legend()\n",
        "plt.show()"
      ],
      "execution_count": 99,
      "outputs": [
        {
          "output_type": "stream",
          "text": [
            "4/4 [==============================] - 0s 3ms/step - loss: 0.0340 - mae: 0.1463\n"
          ],
          "name": "stdout"
        },
        {
          "output_type": "display_data",
          "data": {
            "image/png": "[encoded data removed]",
            "text/plain": [
              "<Figure size 432x288 with 1 Axes>"
            ]
          },
          "metadata": {
            "tags": [],
            "needs_background": "light"
          }
        }
      ]
    }
  ]
}